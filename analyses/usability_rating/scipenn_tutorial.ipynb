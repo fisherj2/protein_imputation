{
 "cells": [
  {
   "cell_type": "code",
   "execution_count": null,
   "metadata": {},
   "outputs": [
    {
     "ename": "",
     "evalue": "",
     "output_type": "error",
     "traceback": [
      "\u001b[1;31mRunning cells with '/home/jfisher2/mambaforge/envs/scMMT/bin/python' requires ipykernel package.\n",
      "\u001b[1;31mRun the following command to install 'ipykernel' into the Python environment. \n",
      "\u001b[1;31mCommand: 'conda install -p /home/jfisher2/mambaforge/envs/scMMT/bin/python ipykernel --update-deps --force-reinstall'"
     ]
    }
   ],
   "source": [
    "%load_ext autoreload\n",
    "%autoreload 2\n",
    "\n",
    "import numpy as np\n",
    "from matplotlib import pyplot\n",
    "import os\n",
    "from copy import deepcopy\n",
    "\n",
    "from time import time\n",
    "\n",
    "from math import ceil\n",
    "from scipy.stats import spearmanr, gamma, poisson\n",
    "\n",
    "from anndata import AnnData, read_h5ad\n",
    "import scanpy as sc\n",
    "from scanpy import read\n",
    "import pandas as pd\n",
    "\n",
    "from torch.utils.data import DataLoader, TensorDataset\n",
    "from torch import tensor\n",
    "from torch.cuda import is_available\n",
    "\n",
    "from sciPENN.sciPENN_API import sciPENN_API"
   ]
  },
  {
   "cell_type": "code",
   "execution_count": null,
   "metadata": {},
   "outputs": [
    {
     "ename": "",
     "evalue": "",
     "output_type": "error",
     "traceback": [
      "\u001b[1;31mRunning cells with '/home/jfisher2/mambaforge/envs/scMMT/bin/python' requires ipykernel package.\n",
      "\u001b[1;31mRun the following command to install 'ipykernel' into the Python environment. \n",
      "\u001b[1;31mCommand: 'conda install -p /home/jfisher2/mambaforge/envs/scMMT/bin/python ipykernel --update-deps --force-reinstall'"
     ]
    }
   ],
   "source": [
    "\"\"\"Read in Raw Data\"\"\"\n",
    "\n",
    "adata_gene = sc.read(\"/scratch/jfisher2/temp/pbmc_gene.h5ad\")\n",
    "adata_protein = sc.read(\"/scratch/jfisher2/temp/pbmc_protein.h5ad\")\n",
    "\n",
    "#downsample for testing\n",
    "adata_gene = sc.pp.subsample(adata_gene, fraction=0.1,copy=True)\n",
    "cells = adata_gene.obs.index\n",
    "adata_protein = adata_protein[cells]"
   ]
  },
  {
   "cell_type": "markdown",
   "metadata": {},
   "source": [
    "## Scenario 1: Training CITE-seq, Test scRNA-seq"
   ]
  },
  {
   "cell_type": "markdown",
   "metadata": {},
   "source": [
    "For this scenario, we designate patients P1, P3, P4, P7 as the training data. The other patients are treated as an scRNA-seq test set (proteins are held out)."
   ]
  },
  {
   "cell_type": "code",
   "execution_count": 3,
   "metadata": {},
   "outputs": [],
   "source": [
    "\"\"\"Create training and test\"\"\"\n",
    "\n",
    "train_bool = [x in ['P1', 'P3', 'P4', 'P7'] for x in adata_gene.obs['donor']]\n",
    "\n",
    "adata_gene_train = adata_gene[train_bool].copy()\n",
    "adata_protein_train = adata_protein[train_bool].copy()\n",
    "adata_gene_test = adata_gene[np.invert(train_bool)].copy()"
   ]
  },
  {
   "cell_type": "markdown",
   "metadata": {},
   "source": [
    "Create the sciPENN object. Since we only have a single CITE-seq reference, we provide only a single gene training set (represented by the list of length 1 passed to gene_trainsets) and a single protein training set (represented by the list of length 1 passed to protein_trainsets). \n",
    "\n",
    "The key used to identify batches is 'donor' for both the CITE-seq reference and the scRNA-seq query, so we pass this key to both the train_batchkeys argument and the test_batchkey argument.\n",
    "\n",
    "Lastly, we also want to transfer celltype labels from CITE-seq reference to query. The celltypes in the CITE-seq reference are identified by the obs key \"celltype.l3\", so we supply this string to the type_key argument."
   ]
  },
  {
   "cell_type": "code",
   "execution_count": 4,
   "metadata": {
    "scrolled": true
   },
   "outputs": [
    {
     "name": "stdout",
     "output_type": "stream",
     "text": [
      "Searching for GPU\n",
      "GPU not detected, falling back to CPU\n",
      "\n",
      "QC Filtering Training Cells\n",
      "QC Filtering Testing Cells\n",
      "\n",
      "QC Filtering Training Genes\n",
      "QC Filtering Testing Genes\n",
      "\n",
      "Normalizing Training Cells\n",
      "Normalizing Testing Cells\n",
      "\n",
      "Log-Normalizing Training Data\n",
      "Log-Normalizing Testing Data\n",
      "\n",
      "Finding HVGs\n"
     ]
    },
    {
     "name": "stderr",
     "output_type": "stream",
     "text": [
      "... storing 'orig.ident' as categorical\n",
      "... storing 'donor' as categorical\n",
      "... storing 'batch' as categorical\n",
      "... storing 'Dataset' as categorical\n",
      "/Users/jlakkis/anaconda3/envs/scipennenv/lib/python3.7/site-packages/pandas/core/indexing.py:670: SettingWithCopyWarning: \n",
      "A value is trying to be set on a copy of a slice from a DataFrame\n",
      "\n",
      "See the caveats in the documentation: https://pandas.pydata.org/pandas-docs/stable/user_guide/indexing.html#returning-a-view-versus-a-copy\n",
      "  iloc._setitem_with_indexer(indexer, value)\n"
     ]
    },
    {
     "name": "stdout",
     "output_type": "stream",
     "text": [
      "\n",
      "Normalizing Gene Training Data by Batch\n"
     ]
    },
    {
     "name": "stderr",
     "output_type": "stream",
     "text": [
      "100%|█████████████████████████████████████████████| 4/4 [00:01<00:00,  3.07it/s]\n"
     ]
    },
    {
     "name": "stdout",
     "output_type": "stream",
     "text": [
      "\n",
      "Normalizing Protein Training Data by Batch\n"
     ]
    },
    {
     "name": "stderr",
     "output_type": "stream",
     "text": [
      "100%|█████████████████████████████████████████████| 4/4 [00:01<00:00,  2.89it/s]\n"
     ]
    },
    {
     "name": "stdout",
     "output_type": "stream",
     "text": [
      "\n",
      "Normalizing Gene Testing Data by Batch\n"
     ]
    },
    {
     "name": "stderr",
     "output_type": "stream",
     "text": [
      "100%|█████████████████████████████████████████████| 4/4 [00:01<00:00,  2.53it/s]\n"
     ]
    }
   ],
   "source": [
    "sciPENN = sciPENN_API(gene_trainsets = [adata_gene_train], protein_trainsets = [adata_protein_train], \n",
    "                      gene_test = adata_gene_test, train_batchkeys = ['donor'], test_batchkey = 'donor', \n",
    "                      type_key = 'celltype.l3')"
   ]
  },
  {
   "cell_type": "markdown",
   "metadata": {},
   "source": [
    "Train the sciPENN object. Here, we ask the model to estimate quantiles 0.1, 0.25, 0.75, and 0.9. The weights directory is \"pbmc_to_pbmc\""
   ]
  },
  {
   "cell_type": "code",
   "execution_count": 5,
   "metadata": {},
   "outputs": [],
   "source": [
    "sciPENN.train(quantiles = [0.1, 0.25, 0.75, 0.9], n_epochs = 5, ES_max = 12, decay_max = 6, \n",
    "             decay_step = 0.1, lr = 10**(-3), weights_dir = \"/scratch/jfisher2/temp\", load = True)"
   ]
  },
  {
   "cell_type": "markdown",
   "metadata": {},
   "source": [
    "Use the predict method to predict protein expression and celltype labels in the scRNA-seq test dataset."
   ]
  },
  {
   "cell_type": "code",
   "execution_count": 6,
   "metadata": {},
   "outputs": [],
   "source": [
    "predicted_test = sciPENN.predict()"
   ]
  },
  {
   "cell_type": "markdown",
   "metadata": {},
   "source": [
    "The predicted protein data is accessible via attribute X."
   ]
  },
  {
   "cell_type": "code",
   "execution_count": 7,
   "metadata": {},
   "outputs": [
    {
     "data": {
      "text/plain": [
       "array([[-0.08606908,  1.0733305 , -0.08382416, ..., -0.10855977,\n",
       "         1.1916811 , -0.6210407 ],\n",
       "       [-0.01654948, -0.57819885, -0.03659076, ...,  0.04971856,\n",
       "        -0.2662349 , -0.54381406],\n",
       "       [-0.04159341, -0.39137587, -0.15754658, ..., -0.03463646,\n",
       "        -0.54950804, -0.6513999 ],\n",
       "       ...,\n",
       "       [ 0.19206363, -0.32784048, -0.01145427, ...,  0.07668191,\n",
       "        -0.82650733, -0.5575701 ],\n",
       "       [ 0.03178106,  1.4498234 ,  0.06570083, ..., -0.04224005,\n",
       "         1.0518235 , -0.74918085],\n",
       "       [-0.17243885,  1.0328531 , -0.07784487, ..., -0.13599333,\n",
       "         0.9373484 , -0.6033013 ]], dtype=float32)"
      ]
     },
     "execution_count": 7,
     "metadata": {},
     "output_type": "execute_result"
    }
   ],
   "source": [
    "predicted_test.X"
   ]
  },
  {
   "cell_type": "markdown",
   "metadata": {},
   "source": [
    "Use the 'batch' cell metadata field to see which batch a cell is from. E.g. the batch information 'DS-Test P5' means the corresponding cell is from batch P5 of the query dataset."
   ]
  },
  {
   "cell_type": "code",
   "execution_count": 8,
   "metadata": {
    "scrolled": true
   },
   "outputs": [
    {
     "data": {
      "text/plain": [
       "index\n",
       "L1_AAACCCAAGAAACTCA      DS-Test P2\n",
       "L1_AAACCCATCTTAAGGC      DS-Test P2\n",
       "L1_AAACGAAAGATAACAC      DS-Test P2\n",
       "L1_AAACGAACAAGAGTAT      DS-Test P2\n",
       "L1_AAACGAATCCCGTTGT      DS-Test P2\n",
       "                            ...    \n",
       "E2L8_TTTGTTGGTCGTGATT    DS-Test P5\n",
       "E2L8_TTTGTTGGTGTGCCTG    DS-Test P5\n",
       "E2L8_TTTGTTGGTTAGTTCG    DS-Test P8\n",
       "E2L8_TTTGTTGGTTGGCTAT    DS-Test P5\n",
       "E2L8_TTTGTTGTCTCATGGA    DS-Test P5\n",
       "Name: batch, Length: 86005, dtype: object"
      ]
     },
     "execution_count": 8,
     "metadata": {},
     "output_type": "execute_result"
    }
   ],
   "source": [
    "predicted_test.obs['batch']"
   ]
  },
  {
   "cell_type": "markdown",
   "metadata": {},
   "source": [
    "Use the 'transfered cell labels' cell metadata field to see the predicted celltype for each cell. We actually know the true celltype label in this case (found in celltype.l3) so we can view the test accuracy of predictions."
   ]
  },
  {
   "cell_type": "code",
   "execution_count": 9,
   "metadata": {},
   "outputs": [
    {
     "name": "stdout",
     "output_type": "stream",
     "text": [
      "index\n",
      "L1_AAACCCAAGAAACTCA                  CD14 Mono\n",
      "L1_AAACCCATCTTAAGGC                  CD8 TEM_1\n",
      "L1_AAACGAAAGATAACAC              B naive kappa\n",
      "L1_AAACGAACAAGAGTAT                       NK_2\n",
      "L1_AAACGAATCCCGTTGT                  CD4 TEM_1\n",
      "                                 ...          \n",
      "E2L8_TTTGTTGGTCGTGATT                CD8 Naive\n",
      "E2L8_TTTGTTGGTGTGCCTG                CD14 Mono\n",
      "E2L8_TTTGTTGGTTAGTTCG    B intermediate lambda\n",
      "E2L8_TTTGTTGGTTGGCTAT                CD16 Mono\n",
      "E2L8_TTTGTTGTCTCATGGA                CD14 Mono\n",
      "Name: transfered cell labels, Length: 86005, dtype: object\n",
      "\n",
      "\n",
      "\n",
      "Test set accuracy: 0.8354\n"
     ]
    }
   ],
   "source": [
    "print(predicted_test.obs['transfered cell labels'])\n",
    "print(f\"\\n\\n\\nTest set accuracy: {(predicted_test.obs['transfered cell labels'] == predicted_test.obs['celltype.l3']).mean():.4f}\")"
   ]
  },
  {
   "cell_type": "markdown",
   "metadata": {},
   "source": [
    "Use the embed command to estimate a lower-dimension latent representation of the data. Both the CITE-seq reference and scRNA-seq query are embedded into a common latent space, which can be further dimension reduced and visualized using UMAP."
   ]
  },
  {
   "cell_type": "code",
   "execution_count": 10,
   "metadata": {},
   "outputs": [],
   "source": [
    "embedding = sciPENN.embed()"
   ]
  },
  {
   "cell_type": "markdown",
   "metadata": {},
   "source": [
    "The embedding is accessible via attribute X."
   ]
  },
  {
   "cell_type": "code",
   "execution_count": 11,
   "metadata": {},
   "outputs": [
    {
     "data": {
      "text/plain": [
       "array([[-0.08606908,  1.0733305 , -0.08382416, ..., -0.10855977,\n",
       "         1.1916811 , -0.6210407 ],\n",
       "       [-0.01654948, -0.57819885, -0.03659076, ...,  0.04971856,\n",
       "        -0.2662349 , -0.54381406],\n",
       "       [-0.04159341, -0.39137587, -0.15754658, ..., -0.03463646,\n",
       "        -0.54950804, -0.6513999 ],\n",
       "       ...,\n",
       "       [ 0.19206363, -0.32784048, -0.01145427, ...,  0.07668191,\n",
       "        -0.82650733, -0.5575701 ],\n",
       "       [ 0.03178106,  1.4498234 ,  0.06570083, ..., -0.04224005,\n",
       "         1.0518235 , -0.74918085],\n",
       "       [-0.17243885,  1.0328531 , -0.07784487, ..., -0.13599333,\n",
       "         0.9373484 , -0.6033013 ]], dtype=float32)"
      ]
     },
     "execution_count": 11,
     "metadata": {},
     "output_type": "execute_result"
    }
   ],
   "source": [
    "predicted_test.X"
   ]
  },
  {
   "cell_type": "markdown",
   "metadata": {},
   "source": [
    "Use the 'batch' cell metadata field to see which dataset and batch a cell is from. E.g. the batch information 'DS-Test P5' means the corresponding cell is from batch P5 of the query dataset. 'DS-1 P4' means the corresponding cell is from batch P4 of the first CITE-seq reference."
   ]
  },
  {
   "cell_type": "code",
   "execution_count": 12,
   "metadata": {},
   "outputs": [
    {
     "data": {
      "text/plain": [
       "index\n",
       "L1_AAACCCAAGACATACA         DS-1 P1\n",
       "L1_AAACCCACAACTGGTT         DS-1 P4\n",
       "L1_AAACCCACACGTACTA         DS-1 P3\n",
       "L1_AAACCCACAGCATACT         DS-1 P4\n",
       "L1_AAACCCACATCAGTCA         DS-1 P3\n",
       "                            ...    \n",
       "E2L8_TTTGTTGGTCGTGATT    DS-Test P5\n",
       "E2L8_TTTGTTGGTGTGCCTG    DS-Test P5\n",
       "E2L8_TTTGTTGGTTAGTTCG    DS-Test P8\n",
       "E2L8_TTTGTTGGTTGGCTAT    DS-Test P5\n",
       "E2L8_TTTGTTGTCTCATGGA    DS-Test P5\n",
       "Name: batch, Length: 161748, dtype: object"
      ]
     },
     "execution_count": 12,
     "metadata": {},
     "output_type": "execute_result"
    }
   ],
   "source": [
    "embedding.obs['batch']"
   ]
  },
  {
   "cell_type": "markdown",
   "metadata": {},
   "source": [
    "View estimated quantiles of the data. We estimate a quantile for every protein in every cell, so each of these layers is an array whose rows index cells and columns index proteins."
   ]
  },
  {
   "cell_type": "code",
   "execution_count": 13,
   "metadata": {},
   "outputs": [],
   "source": [
    "q25 = predicted_test.layers['q25']\n",
    "q75 = predicted_test.layers['q75']\n",
    "q10 = predicted_test.layers['q10']\n",
    "q90 = predicted_test.layers['q90']"
   ]
  },
  {
   "cell_type": "markdown",
   "metadata": {},
   "source": [
    "## Scenario 2: Integrate two CITE-seq datasets"
   ]
  },
  {
   "cell_type": "markdown",
   "metadata": {},
   "source": [
    "For this scenario, we integrate two separate CITE-seq datasets. The first consists of patients P1, P3, P4, P7, and the other CITE-seq dataset contains other patients. We use sciPENN to handle the case where the protein panels of the two CITE-seq datasets are not identical. Some proteins are availible in only one CITE-seq dataset, other proteins are availible only in the other dataset. The goal here is to recover the missing proteins in each dataset so that the two CITE-seq datasets can be merged"
   ]
  },
  {
   "cell_type": "code",
   "execution_count": 14,
   "metadata": {},
   "outputs": [],
   "source": [
    "\"\"\"Create training and test\"\"\"\n",
    "\n",
    "train_bool = [x in ['P1', 'P3', 'P4', 'P7'] for x in adata_gene.obs['donor']]\n",
    "\n",
    "adata_gene_set1 = adata_gene[train_bool].copy()\n",
    "adata_protein_set1 = adata_protein[train_bool].copy()\n",
    "adata_gene_set2 = adata_gene[np.invert(train_bool)].copy()\n",
    "adata_protein_set2 = adata_protein[np.invert(train_bool)].copy()\n",
    "\n",
    "common_proteins = adata_protein_train.var.index\n",
    "set1only_proteins = np.random.choice(common_proteins, len(common_proteins)//3, False)\n",
    "common_proteins = np.setdiff1d(common_proteins, set1only_proteins)\n",
    "set2only_proteins = np.random.choice(common_proteins, len(common_proteins)//2, False)\n",
    "\n",
    "set1only_proteins = set(set1only_proteins)\n",
    "set2only_proteins = set(set2only_proteins)\n",
    "\n",
    "keep_set1 = [x not in set2only_proteins for x in adata_protein_train.var.index]\n",
    "keep_set2 = [x not in set1only_proteins for x in adata_protein_train.var.index]\n",
    "\n",
    "adata_protein_set1 = adata_protein_set1[:, keep_set1].copy()\n",
    "adata_protein_set2 = adata_protein_set2[:, keep_set2].copy()"
   ]
  },
  {
   "cell_type": "markdown",
   "metadata": {},
   "source": [
    "Create the sciPENN object. Since we two CITE-seq references and no scRNA-seq query set this time, we provide two gene training sets (one for each CITE-seq reference) and a two protein training sets (the corrresponding protein arrays of the two CITE-seq references). Since we have no scRNA-seq query set, do not provide a gene_test argument.\n",
    "\n",
    "Since we have two CITE-seq references, we need to provide a list of two batch keys for the train_batchkeys argument, which lists the batchkeys for each of the two references. Since the batchkey is 'donor' for both datasets, the two entries in the list are both \"donor\". Since we have no query scRNA-seq dataset, do not provide a test_batchkey argument.\n",
    "\n",
    "For this scenario, we do not want to transfer celltype labels from CITE-seq reference to query. The celltypes is not provided."
   ]
  },
  {
   "cell_type": "code",
   "execution_count": 15,
   "metadata": {
    "scrolled": true
   },
   "outputs": [
    {
     "name": "stdout",
     "output_type": "stream",
     "text": [
      "Searching for GPU\n",
      "GPU not detected, falling back to CPU\n",
      "\n",
      "QC Filtering Training Cells\n",
      "\n",
      "QC Filtering Training Genes\n",
      "\n",
      "Normalizing Training Cells\n",
      "\n",
      "Log-Normalizing Training Data\n",
      "\n",
      "Finding HVGs\n"
     ]
    },
    {
     "name": "stderr",
     "output_type": "stream",
     "text": [
      "... storing 'orig.ident' as categorical\n",
      "... storing 'donor' as categorical\n",
      "... storing 'batch' as categorical\n",
      "... storing 'Dataset' as categorical\n",
      "/Users/jlakkis/anaconda3/envs/scipennenv/lib/python3.7/site-packages/pandas/core/indexing.py:670: SettingWithCopyWarning: \n",
      "A value is trying to be set on a copy of a slice from a DataFrame\n",
      "\n",
      "See the caveats in the documentation: https://pandas.pydata.org/pandas-docs/stable/user_guide/indexing.html#returning-a-view-versus-a-copy\n",
      "  iloc._setitem_with_indexer(indexer, value)\n"
     ]
    },
    {
     "name": "stdout",
     "output_type": "stream",
     "text": [
      "\n",
      "Normalizing Gene Training Data by Batch\n"
     ]
    },
    {
     "name": "stderr",
     "output_type": "stream",
     "text": [
      "100%|█████████████████████████████████████████████| 8/8 [00:02<00:00,  3.78it/s]\n"
     ]
    },
    {
     "name": "stdout",
     "output_type": "stream",
     "text": [
      "\n",
      "Normalizing Protein Training Data by Batch\n"
     ]
    },
    {
     "name": "stderr",
     "output_type": "stream",
     "text": [
      "100%|█████████████████████████████████████████████| 4/4 [00:00<00:00,  4.34it/s]\n",
      "100%|█████████████████████████████████████████████| 4/4 [00:01<00:00,  3.71it/s]\n"
     ]
    }
   ],
   "source": [
    "sciPENN = sciPENN_API(gene_trainsets = [adata_gene_set1, adata_gene_set2], \n",
    "                      protein_trainsets = [adata_protein_set1, adata_protein_set2], \n",
    "                      train_batchkeys = ['donor', 'donor'])"
   ]
  },
  {
   "cell_type": "markdown",
   "metadata": {},
   "source": [
    "Train the sciPENN object. Here, we ask the model to estimate quantiles 0.1, 0.25, 0.75, and 0.9. The weights directory is \"pbmc_to_pbmcINTEGRATE\""
   ]
  },
  {
   "cell_type": "code",
   "execution_count": 16,
   "metadata": {
    "scrolled": true
   },
   "outputs": [],
   "source": [
    "sciPENN.train(quantiles = [0.1, 0.25, 0.75, 0.9], n_epochs = 10000, ES_max = 12, decay_max = 6, \n",
    "             decay_step = 0.1, lr = 10**(-3), weights_dir = \"pbmc_to_pbmcINTEGRATE\", load = True)"
   ]
  },
  {
   "cell_type": "markdown",
   "metadata": {},
   "source": [
    "Use the impute method to impute missing protein expression in each CITE-seq reference set. Note that this is different from the predict method, which would predict protein expression only for the gene test set and return an array with the same number of rows as the test set. The impute function returns an array of n x p, where n is the sum of the number of cells across all CITE-seq references and p is the union of the sets of proteins across al CITE-seq references. A protein will be imputed for a cell in this array only if it wasn't sequenced for that cell. Otherwise the true sequenced value is provided."
   ]
  },
  {
   "cell_type": "code",
   "execution_count": 17,
   "metadata": {},
   "outputs": [],
   "source": [
    "imputed_test = sciPENN.impute()"
   ]
  },
  {
   "cell_type": "markdown",
   "metadata": {},
   "source": [
    "The integrated protein reference data is accessible via attribute X."
   ]
  },
  {
   "cell_type": "code",
   "execution_count": 18,
   "metadata": {},
   "outputs": [
    {
     "data": {
      "text/plain": [
       "array([[ 4.48758692e-01, -8.01393747e-01, -3.42670083e-01, ...,\n",
       "        -4.10658121e-01, -5.39497077e-01, -6.77482486e-02],\n",
       "       [-4.67995927e-02,  1.12219346e+00, -4.16118801e-02, ...,\n",
       "        -3.67593259e-01,  1.34710538e+00,  2.94366851e-03],\n",
       "       [ 8.93130660e-01,  2.32020020e-01,  2.72543192e-01, ...,\n",
       "        -4.26250935e-01,  8.23240519e-01,  1.39810681e-01],\n",
       "       ...,\n",
       "       [ 1.02716215e-01,  1.30520761e-03,  7.59903312e-01, ...,\n",
       "        -2.01725900e-01, -1.95526272e-01,  1.23690259e+00],\n",
       "       [-3.45076263e-01, -2.60932874e-02,  9.24792290e-01, ...,\n",
       "         3.67230892e-01,  3.22137713e-01,  9.67191458e-01],\n",
       "       [ 1.25230563e+00, -4.54774916e-01,  1.19021249e+00, ...,\n",
       "         2.84777462e-01,  1.17554748e+00, -1.42882025e+00]], dtype=float32)"
      ]
     },
     "execution_count": 18,
     "metadata": {},
     "output_type": "execute_result"
    }
   ],
   "source": [
    "imputed_test.X"
   ]
  },
  {
   "cell_type": "markdown",
   "metadata": {},
   "source": [
    "We can use the 'Dataset' cell metadata field to see which CITE-seq dataset each cell is from. Dataset 1 refers to the first CITE-seq dataset (whose gene data was the first element in the gene_trainsets list and whose protein data was the first element in the protein_trainsets list)."
   ]
  },
  {
   "cell_type": "code",
   "execution_count": 19,
   "metadata": {},
   "outputs": [
    {
     "data": {
      "text/plain": [
       "index\n",
       "L1_AAACCCAAGACATACA-0      Dataset 1\n",
       "L1_AAACCCACAACTGGTT-0      Dataset 1\n",
       "L1_AAACCCACACGTACTA-0      Dataset 1\n",
       "L1_AAACCCACAGCATACT-0      Dataset 1\n",
       "L1_AAACCCACATCAGTCA-0      Dataset 1\n",
       "                             ...    \n",
       "E2L8_TTTGTTGGTCGTGATT-1    Dataset 2\n",
       "E2L8_TTTGTTGGTGTGCCTG-1    Dataset 2\n",
       "E2L8_TTTGTTGGTTAGTTCG-1    Dataset 2\n",
       "E2L8_TTTGTTGGTTGGCTAT-1    Dataset 2\n",
       "E2L8_TTTGTTGTCTCATGGA-1    Dataset 2\n",
       "Name: Dataset, Length: 161748, dtype: object"
      ]
     },
     "execution_count": 19,
     "metadata": {},
     "output_type": "execute_result"
    }
   ],
   "source": [
    "imputed_test.obs['Dataset']"
   ]
  },
  {
   "cell_type": "markdown",
   "metadata": {},
   "source": [
    "Each dataset has batches inside it. Use the 'batch' cell metadata field to see which batch a cell is from. E.g. the batch information 'DS-1 P4' means the corresponding cell is from batch P4 of dataset 1."
   ]
  },
  {
   "cell_type": "code",
   "execution_count": 20,
   "metadata": {
    "scrolled": true
   },
   "outputs": [
    {
     "data": {
      "text/plain": [
       "index\n",
       "L1_AAACCCAAGACATACA-0      DS-1 P1\n",
       "L1_AAACCCACAACTGGTT-0      DS-1 P4\n",
       "L1_AAACCCACACGTACTA-0      DS-1 P3\n",
       "L1_AAACCCACAGCATACT-0      DS-1 P4\n",
       "L1_AAACCCACATCAGTCA-0      DS-1 P3\n",
       "                            ...   \n",
       "E2L8_TTTGTTGGTCGTGATT-1    DS-2 P5\n",
       "E2L8_TTTGTTGGTGTGCCTG-1    DS-2 P5\n",
       "E2L8_TTTGTTGGTTAGTTCG-1    DS-2 P8\n",
       "E2L8_TTTGTTGGTTGGCTAT-1    DS-2 P5\n",
       "E2L8_TTTGTTGTCTCATGGA-1    DS-2 P5\n",
       "Name: batch, Length: 161748, dtype: object"
      ]
     },
     "execution_count": 20,
     "metadata": {},
     "output_type": "execute_result"
    }
   ],
   "source": [
    "imputed_test.obs['batch']"
   ]
  },
  {
   "cell_type": "markdown",
   "metadata": {},
   "source": [
    "We may want a quick way to identify which proteins were sequenced for a particular dataset. The following commands demontrate how to do this."
   ]
  },
  {
   "cell_type": "code",
   "execution_count": 21,
   "metadata": {},
   "outputs": [],
   "source": [
    "proteins = imputed_test.var.index\n",
    "\n",
    "proteins1 = proteins[imputed_test.var['Dataset 1']] #get proteins sequenced in Dataset 1\n",
    "proteins2 = proteins[imputed_test.var['Dataset 2']] #get proteins sequenced in Dataset 1"
   ]
  },
  {
   "cell_type": "markdown",
   "metadata": {},
   "source": [
    "Recall that the overall array (imputed_test.X) consists of both imputed and true protein values, with imputed values being used when the protein wasn't sequenced. We can separate this array into 4 subarrays:\n",
    "\n",
    "1. Imputed Protein array in Dataset 1\n",
    "2. Sequenced Protein array in Dataset 1\n",
    "3. Imputed Protein array in Dataset 2\n",
    "4. Sequenced Protein array in Dataset 2"
   ]
  },
  {
   "cell_type": "code",
   "execution_count": 22,
   "metadata": {},
   "outputs": [],
   "source": [
    "ds1_cells = imputed_test.obs['Dataset'] == 'Dataset 1'\n",
    "ds2_cells = imputed_test.obs['Dataset'] == 'Dataset 2'\n",
    "\n",
    "ds1_pred, ds1_seq = np.invert(imputed_test.var['Dataset 1']), imputed_test.var['Dataset 1']\n",
    "ds2_pred, ds2_seq = np.invert(imputed_test.var['Dataset 2']), imputed_test.var['Dataset 2']\n",
    "\n",
    "pred1 = imputed_test[ds1_cells, ds1_pred] #imputed protein array in dataset 1\n",
    "sequenced1 = imputed_test[ds1_cells, ds1_seq] #sequenced protein array in dataset 1\n",
    "pred2 = imputed_test[ds2_cells, ds2_pred] #imputed protein array in dataset 2\n",
    "sequenced2 = imputed_test[ds2_cells, ds2_seq] #sequenced protein array in dataset 2"
   ]
  },
  {
   "cell_type": "markdown",
   "metadata": {},
   "source": [
    "We can embed the two references into a common latent space. The embedding process is identical to scenario 1."
   ]
  },
  {
   "cell_type": "code",
   "execution_count": 23,
   "metadata": {},
   "outputs": [],
   "source": [
    "embedding = sciPENN.embed()"
   ]
  },
  {
   "cell_type": "markdown",
   "metadata": {},
   "source": [
    "Use the 'batch' cell metadata field to see which dataset and batch a cell is from. E.g.'DS-1 P4' means the corresponding cell is from batch P4 of the first CITE-seq reference. 'DS-2 P5' means the corresponding cell is from batch P5 of the first CITE-seq reference. "
   ]
  },
  {
   "cell_type": "code",
   "execution_count": 24,
   "metadata": {},
   "outputs": [
    {
     "data": {
      "text/plain": [
       "index\n",
       "L1_AAACCCAAGACATACA-0      DS-1 P1\n",
       "L1_AAACCCACAACTGGTT-0      DS-1 P4\n",
       "L1_AAACCCACACGTACTA-0      DS-1 P3\n",
       "L1_AAACCCACAGCATACT-0      DS-1 P4\n",
       "L1_AAACCCACATCAGTCA-0      DS-1 P3\n",
       "                            ...   \n",
       "E2L8_TTTGTTGGTCGTGATT-1    DS-2 P5\n",
       "E2L8_TTTGTTGGTGTGCCTG-1    DS-2 P5\n",
       "E2L8_TTTGTTGGTTAGTTCG-1    DS-2 P8\n",
       "E2L8_TTTGTTGGTTGGCTAT-1    DS-2 P5\n",
       "E2L8_TTTGTTGTCTCATGGA-1    DS-2 P5\n",
       "Name: batch, Length: 161748, dtype: object"
      ]
     },
     "execution_count": 24,
     "metadata": {},
     "output_type": "execute_result"
    }
   ],
   "source": [
    "embedding.obs['batch']"
   ]
  },
  {
   "cell_type": "markdown",
   "metadata": {},
   "source": [
    "The 'Dataset' attribute is a quick way to check a cell's source dataset."
   ]
  },
  {
   "cell_type": "code",
   "execution_count": 25,
   "metadata": {},
   "outputs": [
    {
     "data": {
      "text/plain": [
       "index\n",
       "L1_AAACCCAAGACATACA-0      Dataset 1\n",
       "L1_AAACCCACAACTGGTT-0      Dataset 1\n",
       "L1_AAACCCACACGTACTA-0      Dataset 1\n",
       "L1_AAACCCACAGCATACT-0      Dataset 1\n",
       "L1_AAACCCACATCAGTCA-0      Dataset 1\n",
       "                             ...    \n",
       "E2L8_TTTGTTGGTCGTGATT-1    Dataset 2\n",
       "E2L8_TTTGTTGGTGTGCCTG-1    Dataset 2\n",
       "E2L8_TTTGTTGGTTAGTTCG-1    Dataset 2\n",
       "E2L8_TTTGTTGGTTGGCTAT-1    Dataset 2\n",
       "E2L8_TTTGTTGTCTCATGGA-1    Dataset 2\n",
       "Name: Dataset, Length: 161748, dtype: object"
      ]
     },
     "execution_count": 25,
     "metadata": {},
     "output_type": "execute_result"
    }
   ],
   "source": [
    "embedding.obs['Dataset']"
   ]
  },
  {
   "cell_type": "markdown",
   "metadata": {},
   "source": [
    "We can view estimated quantiles just like in Scenario 1. Note that each quantile is estimated for all proteins in. all cells, even when the protein is sequenced in the cell. The quantiles are much more useful for proteins which needed to be imputed for a cell."
   ]
  },
  {
   "cell_type": "code",
   "execution_count": 26,
   "metadata": {},
   "outputs": [],
   "source": [
    "q10_pred = imputed_test[ds1_cells, ds1_pred].layers['q10'] #get q10 for imputed proteins from reference 1\n",
    "q10_truth = imputed_test[ds1_cells, ds1_seq].layers['q10'] #get q10 for sequenced proteins from reference 1, not useful"
   ]
  }
 ],
 "metadata": {
  "kernelspec": {
   "display_name": "Python 3",
   "language": "python",
   "name": "python3"
  },
  "language_info": {
   "codemirror_mode": {
    "name": "ipython",
    "version": 3
   },
   "file_extension": ".py",
   "mimetype": "text/x-python",
   "name": "python",
   "nbconvert_exporter": "python",
   "pygments_lexer": "ipython3",
   "version": "3.10.14 (main, May  6 2024, 19:42:50) [GCC 11.2.0]"
  },
  "vscode": {
   "interpreter": {
    "hash": "1b7b04502d22dcb43fa0c624e121764735520f2c694a9c32ed0dde31c93ac0cf"
   }
  }
 },
 "nbformat": 4,
 "nbformat_minor": 4
}
